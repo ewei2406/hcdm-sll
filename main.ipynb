{
 "cells": [
  {
   "attachments": {},
   "cell_type": "markdown",
   "metadata": {},
   "source": [
    "# Setup"
   ]
  },
  {
   "cell_type": "code",
   "execution_count": 163,
   "metadata": {},
   "outputs": [],
   "source": [
    "import torch\n",
    "import argparse\n",
    "import numpy as np\n",
    "import utils\n",
    "import export"
   ]
  },
  {
   "cell_type": "code",
   "execution_count": 206,
   "metadata": {},
   "outputs": [],
   "source": [
    "device = \"cuda:1\" if torch.cuda.is_available() else \"cpu\"\n",
    "\n",
    "def run_all(args, save=False):\n",
    "    np.random.seed(args['seed'])\n",
    "    torch.manual_seed(args['seed'])\n",
    "    adj, feat, labels, train_mask, val_mask, test_mask = utils.load_data(args['dataset'], args['seed'])\n",
    "    T_s = T_u = torch.tensor([0])\n",
    "    if args['T_s'] == -1: T_s = labels\n",
    "    else:\n",
    "        T_s = utils.binary(feat[:,args['T_s']].clone())\n",
    "        feat[:,args['T_s']] = 0\n",
    "    if args['T_u'] == -1: T_u = labels\n",
    "    else:\n",
    "        T_u = utils.binary(feat[:,args['T_u']].clone())\n",
    "        feat[:,args['T_u']] = 0\n",
    "\n",
    "    g0_size = int(args['g0_size'] * adj.shape[0])\n",
    "    g0 = utils.get_g0(g0_size, adj, method=args['g0_method'])\n",
    "    import attack\n",
    "    locked_adj = torch.zeros_like(adj)\n",
    "    print(\"Attacking with method: \" + args['method'])\n",
    "    if args['method'] == 'CER':\n",
    "        locked_adj = attack.CER(adj, g0)\n",
    "    if args['method'] == 'REF':\n",
    "        budget = (adj.shape[0]) * args['budget_pct']\n",
    "        locked_adj = attack.REF(adj, g0, budget)\n",
    "    if args['method'] == 'SLL':\n",
    "        budget = (adj.shape[0]) * args['budget_pct']\n",
    "        locked_adj = attack.SLL(adj, feat, g0, T_s, T_u, budget, 100, lr=args['lr'], train_mask=train_mask, val_mask=val_mask, device=device)\n",
    "    if args['method'] == 'SLL_G':\n",
    "        budget = (adj.shape[0]) * args['budget_pct']\n",
    "        sample_size = int(adj.shape[0] * adj.shape[1] * 0.001)\n",
    "        locked_adj = attack.SLL_G(adj, feat, g0, T_s, T_u, budget, sample_ct=5, sample_size=sample_size, epochs=30, lr=args['lr'], train_mask=train_mask, val_mask=val_mask, device=device)\n",
    "    sens_g0, sens_gX = utils.evaluate(feat, locked_adj, T_s, g0, train_mask, val_mask, device)\n",
    "    util_g0, util_gX = utils.evaluate(feat, locked_adj, T_u, g0, train_mask, val_mask, device)\n",
    "    edges_modified = (locked_adj.cpu() - adj).sum().item()\n",
    "\n",
    "    adj = adj.to(device)\n",
    "    sens_clean = utils.evaluate(feat, adj, T_s, g0, train_mask, val_mask, device)\n",
    "    util_clean = utils.evaluate(feat, adj, T_u, g0, train_mask, val_mask, device)\n",
    "\n",
    "    results = {\n",
    "        \"sens_g0\": sens_g0,\n",
    "        \"sens_gX\": sens_gX,\n",
    "        \"util_g0\": util_g0,\n",
    "        \"util_gX\": util_gX,\n",
    "        \"edges_modified\": edges_modified\n",
    "    }\n",
    "\n",
    "    results.update(args)\n",
    "    if save:\n",
    "        export.saveData(args['location'], results)"
   ]
  },
  {
   "cell_type": "code",
   "execution_count": null,
   "metadata": {},
   "outputs": [],
   "source": [
    "baseargs = {\n",
    "    'seed': 123,\n",
    "    # 'method': 'SLL',\n",
    "    'budget_pct': 0.25,\n",
    "    'g0_method': 'random',\n",
    "    # 'g0_size': 0.2,\n",
    "    'lr': 10,\n",
    "    'T_s': -1,\n",
    "    'T_u': 1263,\n",
    "    'dataset': 'Cora',\n",
    "    'ptb_rate': 0.5,\n",
    "    'location': './results3.csv'\n",
    " }\n",
    "\n",
    "baseargs.update({ 'method': 'SLL', 'g0_size': 0.1 })\n",
    "run_all(baseargs)\n",
    "\n",
    "baseargs.update({ 'method': 'SLL', 'g0_size': 0.25 })\n",
    "run_all(baseargs)\n",
    "\n",
    "baseargs.update({ 'method': 'SLL', 'g0_size': 0.5 })\n",
    "run_all(baseargs)\n",
    "\n",
    "baseargs.update({ 'method': 'SLL', 'g0_size': 0.75 })\n",
    "run_all(baseargs)"
   ]
  },
  {
   "cell_type": "code",
   "execution_count": null,
   "metadata": {},
   "outputs": [],
   "source": [
    "# 'Cora', 'Cora-ML', 'Citeseer', 'Pubmed', 'Polblogs', 'ACM', 'BlogCatalog', 'Flickr', 'UAI'\n",
    "# TOP 10 cora: [1263, 1301, 1138, 19, 135, 1336, 495, 99, 1123],\n",
    "# TOP 10 chameleon: [1794, 2753,  528,  598,  415, 2297,  735,   73, 2408, 2539],\n",
    "# TOP 10 blogcatalog: [6, 10,  9,  7, 17, 18]"
   ]
  },
  {
   "cell_type": "code",
   "execution_count": null,
   "metadata": {},
   "outputs": [],
   "source": []
  },
  {
   "cell_type": "code",
   "execution_count": 201,
   "metadata": {},
   "outputs": [
    {
     "name": "stdout",
     "output_type": "stream",
     "text": [
      "Loading uai dataset...\n",
      "G0 with method: random\n",
      "G0 size: 322\n",
      "G0 pct: 10.50%\n",
      "Attacking with method: SLL\n"
     ]
    },
    {
     "name": "stderr",
     "output_type": "stream",
     "text": [
      "100%|██████████| 100/100 [00:08<00:00, 12.11it/s, loss=-4.64e+4]\n"
     ]
    },
    {
     "name": "stdout",
     "output_type": "stream",
     "text": [
      "G0: 20.50%\n",
      "GX: 33.66%\n",
      "G0: 54.66%\n",
      "GX: 60.15%\n",
      "Loading uai dataset...\n",
      "G0 with method: random\n",
      "G0 size: 768\n",
      "G0 pct: 25.04%\n",
      "Attacking with method: SLL\n"
     ]
    },
    {
     "name": "stderr",
     "output_type": "stream",
     "text": [
      "100%|██████████| 100/100 [00:08<00:00, 12.23it/s, loss=-5.08e+4]\n"
     ]
    },
    {
     "name": "stdout",
     "output_type": "stream",
     "text": [
      "G0: 29.30%\n",
      "GX: 34.28%\n",
      "G0: 56.77%\n",
      "GX: 59.59%\n",
      "Loading uai dataset...\n",
      "G0 with method: random\n",
      "G0 size: 1501\n",
      "G0 pct: 48.94%\n",
      "Attacking with method: SLL\n"
     ]
    },
    {
     "name": "stderr",
     "output_type": "stream",
     "text": [
      "100%|██████████| 100/100 [00:08<00:00, 12.23it/s, loss=-5.18e+4]\n"
     ]
    },
    {
     "name": "stdout",
     "output_type": "stream",
     "text": [
      "G0: 29.45%\n",
      "GX: 34.93%\n",
      "G0: 60.03%\n",
      "GX: 59.71%\n",
      "Loading uai dataset...\n",
      "G0 with method: random\n",
      "G0 size: 2264\n",
      "G0 pct: 73.82%\n",
      "Attacking with method: SLL\n"
     ]
    },
    {
     "name": "stderr",
     "output_type": "stream",
     "text": [
      "100%|██████████| 100/100 [00:08<00:00, 12.11it/s, loss=-5.15e+4]\n"
     ]
    },
    {
     "name": "stdout",
     "output_type": "stream",
     "text": [
      "G0: 31.45%\n",
      "GX: 35.87%\n",
      "G0: 62.54%\n",
      "GX: 64.51%\n"
     ]
    }
   ],
   "source": [
    "baseargs = {\n",
    "    'seed': 123,\n",
    "    # 'method': 'SLL',\n",
    "    'budget_pct': 0.25,\n",
    "    'g0_method': 'random',\n",
    "    # 'g0_size': 0.2,\n",
    "    'lr': 10,\n",
    "    'T_s': -1,\n",
    "    'T_u': 1,\n",
    "    'dataset': 'UAI',\n",
    "    'ptb_rate': 0.5,\n",
    "    'location': './results3.csv'\n",
    " }\n",
    "\n",
    "for s in [0.1, 0.25, 0.5, 0.75]:\n",
    "    baseargs.update({ 'method': 'SLL', 'g0_size': s })\n",
    "    run_all(baseargs, save=True)\n",
    "    # break"
   ]
  },
  {
   "cell_type": "code",
   "execution_count": 202,
   "metadata": {},
   "outputs": [
    {
     "name": "stdout",
     "output_type": "stream",
     "text": [
      "Loading uai dataset...\n",
      "G0 with method: random\n",
      "G0 size: 322\n",
      "G0 pct: 10.50%\n",
      "Attacking with method: SLL_G\n"
     ]
    },
    {
     "name": "stderr",
     "output_type": "stream",
     "text": [
      "100%|██████████| 30/30 [00:02<00:00, 12.88it/s, loss=-1.35e+5]\n"
     ]
    },
    {
     "name": "stdout",
     "output_type": "stream",
     "text": [
      "G0: 29.50%\n",
      "GX: 36.14%\n",
      "G0: 49.38%\n",
      "GX: 52.02%\n",
      "Loading uai dataset...\n",
      "G0 with method: random\n",
      "G0 size: 768\n",
      "G0 pct: 25.04%\n",
      "Attacking with method: SLL_G\n"
     ]
    },
    {
     "name": "stderr",
     "output_type": "stream",
     "text": [
      "100%|██████████| 30/30 [00:02<00:00, 12.63it/s, loss=-1.46e+5]\n"
     ]
    },
    {
     "name": "stdout",
     "output_type": "stream",
     "text": [
      "G0: 31.64%\n",
      "GX: 38.36%\n",
      "G0: 49.48%\n",
      "GX: 52.50%\n",
      "Loading uai dataset...\n",
      "G0 with method: random\n",
      "G0 size: 1501\n",
      "G0 pct: 48.94%\n",
      "Attacking with method: SLL_G\n"
     ]
    },
    {
     "name": "stderr",
     "output_type": "stream",
     "text": [
      "100%|██████████| 30/30 [00:02<00:00, 13.69it/s, loss=-1.52e+5]\n"
     ]
    },
    {
     "name": "stdout",
     "output_type": "stream",
     "text": [
      "G0: 32.31%\n",
      "GX: 39.02%\n",
      "G0: 50.63%\n",
      "GX: 52.81%\n",
      "Loading uai dataset...\n",
      "G0 with method: random\n",
      "G0 size: 2264\n",
      "G0 pct: 73.82%\n",
      "Attacking with method: SLL_G\n"
     ]
    },
    {
     "name": "stderr",
     "output_type": "stream",
     "text": [
      "100%|██████████| 30/30 [00:02<00:00, 12.80it/s, loss=-1.44e+5]\n"
     ]
    },
    {
     "name": "stdout",
     "output_type": "stream",
     "text": [
      "G0: 26.90%\n",
      "GX: 29.51%\n",
      "G0: 51.55%\n",
      "GX: 52.30%\n"
     ]
    }
   ],
   "source": [
    "baseargs.update({ 'lr': 20 })\n",
    "for s in [0.1, 0.25, 0.5, 0.75]:\n",
    "    baseargs.update({ 'method': 'SLL_G', 'g0_size': s })\n",
    "    run_all(baseargs, save=True)"
   ]
  },
  {
   "cell_type": "code",
   "execution_count": 207,
   "metadata": {},
   "outputs": [
    {
     "name": "stdout",
     "output_type": "stream",
     "text": [
      "Loading cora dataset...\n",
      "Selecting 1 largest connected components\n",
      "G0 with method: random\n",
      "G0 size: 256\n",
      "G0 pct: 10.30%\n",
      "Attacking with method: REF\n",
      "G0: 66.41%\n",
      "GX: 82.68%\n",
      "G0: 98.44%\n",
      "GX: 97.80%\n",
      "Loading cora dataset...\n",
      "Selecting 1 largest connected components\n",
      "G0 with method: random\n",
      "G0 size: 625\n",
      "G0 pct: 25.15%\n",
      "Attacking with method: REF\n",
      "G0: 73.60%\n",
      "GX: 81.83%\n",
      "G0: 97.76%\n",
      "GX: 98.01%\n",
      "Loading cora dataset...\n",
      "Selecting 1 largest connected components\n",
      "G0 with method: random\n",
      "G0 size: 1216\n",
      "G0 pct: 48.93%\n",
      "Attacking with method: REF\n",
      "G0: 76.73%\n",
      "GX: 79.35%\n",
      "G0: 98.03%\n",
      "GX: 98.42%\n",
      "Loading cora dataset...\n",
      "Selecting 1 largest connected components\n",
      "G0 with method: random\n",
      "G0 size: 1839\n",
      "G0 pct: 74.00%\n",
      "Attacking with method: REF\n",
      "G0: 74.12%\n",
      "GX: 78.48%\n",
      "G0: 98.59%\n",
      "GX: 99.38%\n",
      "Loading blogcatalog dataset...\n",
      "G0 with method: random\n",
      "G0 size: 550\n",
      "G0 pct: 10.59%\n",
      "Attacking with method: REF\n",
      "G0: 55.82%\n",
      "GX: 57.81%\n",
      "G0: 100.00%\n",
      "GX: 100.00%\n",
      "Loading blogcatalog dataset...\n",
      "G0 with method: random\n",
      "G0 size: 1336\n",
      "G0 pct: 25.71%\n",
      "Attacking with method: REF\n",
      "G0: 56.59%\n",
      "GX: 56.89%\n",
      "G0: 100.00%\n",
      "GX: 100.00%\n",
      "Loading blogcatalog dataset...\n",
      "G0 with method: random\n",
      "G0 size: 2601\n",
      "G0 pct: 50.06%\n",
      "Attacking with method: REF\n",
      "G0: 53.83%\n",
      "GX: 54.95%\n",
      "G0: 100.00%\n",
      "GX: 100.00%\n",
      "Loading blogcatalog dataset...\n",
      "G0 with method: random\n",
      "G0 size: 3880\n",
      "G0 pct: 74.67%\n",
      "Attacking with method: REF\n",
      "G0: 52.94%\n",
      "GX: 53.04%\n",
      "G0: 100.00%\n",
      "GX: 100.00%\n",
      "Loading flickr dataset...\n",
      "G0 with method: random\n",
      "G0 size: 776\n",
      "G0 pct: 10.24%\n",
      "Attacking with method: REF\n",
      "G0: 27.19%\n",
      "GX: 24.77%\n",
      "G0: 98.97%\n",
      "GX: 99.07%\n",
      "Loading flickr dataset...\n",
      "G0 with method: random\n",
      "G0 size: 1957\n",
      "G0 pct: 25.83%\n",
      "Attacking with method: REF\n",
      "G0: 26.21%\n",
      "GX: 25.42%\n",
      "G0: 99.13%\n",
      "GX: 99.04%\n",
      "Loading flickr dataset...\n",
      "G0 with method: random\n",
      "G0 size: 3823\n",
      "G0 pct: 50.47%\n",
      "Attacking with method: REF\n",
      "G0: 32.54%\n",
      "GX: 31.88%\n",
      "G0: 99.22%\n",
      "GX: 98.91%\n",
      "Loading flickr dataset...\n",
      "G0 with method: random\n",
      "G0 size: 5670\n",
      "G0 pct: 74.85%\n",
      "Attacking with method: REF\n",
      "G0: 30.46%\n",
      "GX: 31.13%\n",
      "G0: 99.05%\n",
      "GX: 99.06%\n",
      "Loading polblogs dataset...\n",
      "Selecting 1 largest connected components\n",
      "G0 with method: random\n",
      "G0 size: 126\n",
      "G0 pct: 10.31%\n",
      "Attacking with method: REF\n",
      "G0: 93.65%\n",
      "GX: 95.35%\n",
      "G0: 100.00%\n",
      "GX: 99.91%\n",
      "Loading polblogs dataset...\n",
      "Selecting 1 largest connected components\n",
      "G0 with method: random\n",
      "G0 size: 308\n",
      "G0 pct: 25.20%\n",
      "Attacking with method: REF\n",
      "G0: 94.48%\n",
      "GX: 95.40%\n",
      "G0: 100.00%\n",
      "GX: 99.89%\n",
      "Loading polblogs dataset...\n",
      "Selecting 1 largest connected components\n",
      "G0 with method: random\n",
      "G0 size: 609\n",
      "G0 pct: 49.84%\n",
      "Attacking with method: REF\n",
      "G0: 94.09%\n",
      "GX: 95.43%\n",
      "G0: 100.00%\n",
      "GX: 99.84%\n",
      "Loading polblogs dataset...\n",
      "Selecting 1 largest connected components\n",
      "G0 with method: random\n",
      "G0 size: 906\n",
      "G0 pct: 74.14%\n",
      "Attacking with method: REF\n",
      "G0: 93.60%\n",
      "GX: 94.30%\n",
      "G0: 99.89%\n",
      "GX: 100.00%\n",
      "Loading uai dataset...\n",
      "G0 with method: random\n",
      "G0 size: 322\n",
      "G0 pct: 10.50%\n",
      "Attacking with method: REF\n",
      "G0: 35.71%\n",
      "GX: 39.42%\n",
      "G0: 54.97%\n",
      "GX: 55.96%\n",
      "Loading uai dataset...\n",
      "G0 with method: random\n",
      "G0 size: 768\n",
      "G0 pct: 25.04%\n",
      "Attacking with method: REF\n",
      "G0: 35.94%\n",
      "GX: 37.45%\n",
      "G0: 63.67%\n",
      "GX: 64.07%\n",
      "Loading uai dataset...\n",
      "G0 with method: random\n",
      "G0 size: 1501\n",
      "G0 pct: 48.94%\n",
      "Attacking with method: REF\n",
      "G0: 36.31%\n",
      "GX: 40.17%\n",
      "G0: 54.50%\n",
      "GX: 55.94%\n",
      "Loading uai dataset...\n",
      "G0 with method: random\n",
      "G0 size: 2264\n",
      "G0 pct: 73.82%\n",
      "Attacking with method: REF\n",
      "G0: 31.63%\n",
      "GX: 33.75%\n",
      "G0: 51.59%\n",
      "GX: 52.43%\n"
     ]
    }
   ],
   "source": [
    "for d in ['Cora', 'BlogCatalog', 'Flickr', 'PolBlogs', 'UAI']:\n",
    "    for s in [0.1, 0.25, 0.5, 0.75]:\n",
    "        baseargs.update({ 'method': 'REF', 'g0_size': s, 'dataset': d })\n",
    "        run_all(baseargs, save=True)"
   ]
  },
  {
   "cell_type": "code",
   "execution_count": 209,
   "metadata": {},
   "outputs": [
    {
     "name": "stdout",
     "output_type": "stream",
     "text": [
      "Loading uai dataset...\n",
      "G0 with method: random\n",
      "G0 size: 322\n",
      "G0 pct: 10.50%\n",
      "Attacking with method: CER\n",
      "G0: 6.52%\n",
      "GX: 41.49%\n",
      "G0: 49.38%\n",
      "GX: 50.49%\n",
      "Loading uai dataset...\n",
      "G0 with method: random\n",
      "G0 size: 768\n",
      "G0 pct: 25.04%\n",
      "Attacking with method: CER\n",
      "G0: 3.26%\n",
      "GX: 43.32%\n",
      "G0: 49.48%\n",
      "GX: 55.15%\n",
      "Loading uai dataset...\n",
      "G0 with method: random\n",
      "G0 size: 1501\n",
      "G0 pct: 48.94%\n",
      "Attacking with method: CER\n",
      "G0: 5.46%\n",
      "GX: 36.21%\n",
      "G0: 50.63%\n",
      "GX: 56.58%\n",
      "Loading uai dataset...\n",
      "G0 with method: random\n",
      "G0 size: 2264\n",
      "G0 pct: 73.82%\n",
      "Attacking with method: CER\n",
      "G0: 5.39%\n",
      "GX: 37.36%\n",
      "G0: 51.55%\n",
      "GX: 54.05%\n",
      "Loading uai dataset...\n",
      "G0 with method: random\n",
      "G0 size: 322\n",
      "G0 pct: 10.50%\n",
      "Attacking with method: REF\n",
      "G0: 37.89%\n",
      "GX: 38.65%\n",
      "G0: 55.28%\n",
      "GX: 58.43%\n",
      "Loading uai dataset...\n",
      "G0 with method: random\n",
      "G0 size: 768\n",
      "G0 pct: 25.04%\n",
      "Attacking with method: REF\n",
      "G0: 37.89%\n",
      "GX: 38.41%\n",
      "G0: 58.98%\n",
      "GX: 55.63%\n",
      "Loading uai dataset...\n",
      "G0 with method: random\n",
      "G0 size: 1501\n",
      "G0 pct: 48.94%\n",
      "Attacking with method: REF\n",
      "G0: 35.18%\n",
      "GX: 37.36%\n",
      "G0: 50.30%\n",
      "GX: 49.30%\n",
      "Loading uai dataset...\n",
      "G0 with method: random\n",
      "G0 size: 2264\n",
      "G0 pct: 73.82%\n",
      "Attacking with method: REF\n",
      "G0: 38.78%\n",
      "GX: 38.98%\n",
      "G0: 48.81%\n",
      "GX: 47.45%\n"
     ]
    }
   ],
   "source": [
    "for s in [0.1, 0.25, 0.5, 0.75]:\n",
    "    baseargs.update({ 'method': 'CER', 'g0_size': s })\n",
    "    run_all(baseargs, save=True)\n",
    "for s in [0.1, 0.25, 0.5, 0.75]:\n",
    "    baseargs.update({ 'method': 'REF', 'g0_size': s })\n",
    "    run_all(baseargs, save=True)"
   ]
  }
 ],
 "metadata": {
  "kernelspec": {
   "display_name": "pytorch_c116",
   "language": "python",
   "name": "python3"
  },
  "language_info": {
   "codemirror_mode": {
    "name": "ipython",
    "version": 3
   },
   "file_extension": ".py",
   "mimetype": "text/x-python",
   "name": "python",
   "nbconvert_exporter": "python",
   "pygments_lexer": "ipython3",
   "version": "3.10.4"
  },
  "orig_nbformat": 4
 },
 "nbformat": 4,
 "nbformat_minor": 2
}
